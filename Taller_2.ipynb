{
  "nbformat": 4,
  "nbformat_minor": 0,
  "metadata": {
    "colab": {
      "provenance": [],
      "include_colab_link": true
    },
    "kernelspec": {
      "name": "python3",
      "display_name": "Python 3"
    },
    "language_info": {
      "name": "python"
    }
  },
  "cells": [
    {
      "cell_type": "markdown",
      "metadata": {
        "id": "view-in-github",
        "colab_type": "text"
      },
      "source": [
        "<a href=\"https://colab.research.google.com/github/CristianG011/Taller2_LOS_MORATEROS/blob/main/Taller_2.ipynb\" target=\"_parent\"><img src=\"https://colab.research.google.com/assets/colab-badge.svg\" alt=\"Open In Colab\"/></a>"
      ]
    },
    {
      "cell_type": "markdown",
      "source": [
        "***PUNTOS PARES TALLER 2***"
      ],
      "metadata": {
        "id": "nnuI-DziSbtj"
      }
    },
    {
      "cell_type": "markdown",
      "source": [
        "PUNTO 2\n",
        "\n",
        "Desarrollar un programa que ingrese un número flotante n y separe su parte entera de la parte decimal, y luego entregue los dígitos tanto de la parte entera como de la decimal."
      ],
      "metadata": {
        "id": "dxQRvZ_7eutx"
      }
    },
    {
      "cell_type": "code",
      "source": [
        "def digitos_flotantes():\n",
        "    n = float(input(\"Ingrese un número flotante: \"))\n",
        "\n",
        "    entero = int(n)                #Convierte la parte entera del flotante a tipo entero\n",
        "    decimal = n - entero           #Saca la parte decimal del flotante\n",
        "\n",
        "    lista1 = []                    #Crea una lista para los dígitos de la parte entera\n",
        "    while entero > 0:\n",
        "        digitos = entero % 10      #Obtiene el último dígito de la parte entera\n",
        "        entero = entero // 10      #Reduce la parte entera eliminando el último dígito\n",
        "        lista1.append(digitos)     #Agrega los dígitos a la lista 1\n",
        "\n",
        "    if len(lista1) == 0:           #Si la lista está vacía se devuelve el valor 0\n",
        "        lista1 = [0]\n",
        "\n",
        "    lista2 = []                    #Crea una lista para la parte decimal\n",
        "\n",
        "    while decimal < 1:\n",
        "        decimal *= 10              #Multiplica de forma iterativa la parte decimal por 10 hasta que sea mayor o igual a 1\n",
        "\n",
        "    while decimal != int(decimal):\n",
        "        lista2.append(int(decimal) % 10)  #Obtiene el último dígito de la parte decimal\n",
        "        decimal = decimal * 10            #Reduce la parte decimal eliminando el último dígito\n",
        "\n",
        "    if not lista2:\n",
        "        lista2 = [0]                      #Si la lista está vacía devuelve el valor 0\n",
        "\n",
        "\n",
        "    print(\"Los dígitos de la parte entera son:\")\n",
        "    print(lista1[::-1])\n",
        "    print(\"Los dígitos de la parte decimal son:\")\n",
        "    print(lista2)\n",
        "\n",
        "if __name__ == \"__main__\":\n",
        "    digitos_flotantes()\n",
        "\n"
      ],
      "metadata": {
        "id": "_LHTd69hUZjE"
      },
      "execution_count": null,
      "outputs": []
    },
    {
      "cell_type": "markdown",
      "source": [
        "PUNTO 4\n",
        "\n",
        "Diseñar una función que permita calcular una aproximación de la función coseno alrededor de 0 para cualquier valor x (real), utilizando los primeros n términos de la serie de Taylor. nota: use math para traer la función coseno y mostrar la diferencia entre el valor real y la aproximación. Calcule con cuántos términos de la serie (i.e: cuáles valores de n), se tienen errores del 10%, 1%, 0.1% y 0.001%."
      ],
      "metadata": {
        "id": "o_r84gWSe7mn"
      }
    },
    {
      "cell_type": "code",
      "source": [
        "import math\n",
        "def f(i: int):                     #para facilitar las cosas, creo una función que será el factorial\n",
        "    if i == 0:                     #Se sabe que el factorial de cero es uno, por lo tanto le ordeno a la función que me retorne el 1\n",
        "        return 1\n",
        "    else:\n",
        "        p = 1                      #Variable para ir aumentando por cada ciclo\n",
        "        for numero in range(1, i + 1): #Sabemos que el rango va hasta n-1 entonces le sumamos uno, de está forma trabajamos la función desde 1 gasta i+1\n",
        "            p *= numero                #P, inicia siendo uno, y por cada ciclo toma el siguiente valor a multiplicar; De está forma sigue creciendo el valor hasta i+1\n",
        "        return p                       #Retornamos el último valor\n",
        "a = int(input(\"Ingrese número de iteraciones: \")) #Hasta dónde llega la sumatoría (n)\n",
        "x = float(input(\"Ingrese valor x en radianes: \")) #Sabemos que los radianes toman valores relacionados con PI, para obtener una aproximación adecuada recomiendo hagar números menores a 4\n",
        "suma : float = 0                  #Variable que va creciendo con el ciclo\n",
        "for s in range(a + 1):            #Para cada número que está en a+1 se va a cumplir el siguiente ciclo\n",
        "    d = d = (x ** (2 * s)) / f(2 * s)             #Acá pasan 2 cosas; Numerador, operación básica. Denominador, COMO ES EL FACTORIAL, vamos a meter el valor en la función y así queda la división\n",
        "    d *= (-1) ** s                #Operación básica\n",
        "    suma += d                     #Ahora si, se suma, y así susivamente hasta \"a\" terminos\n",
        "print(f\"La aproximación de coseno de {x} es:{suma}\")       #Imprima la aproximación\n",
        "print(f\"El valor real del coseno de {x} es:{math.cos(x)}\") #Imprima el valor exacto\n",
        "z = abs((abs(suma - math.cos(x))/math.cos(x))*100)         #Compruebe la diferencia\n",
        "print(f\"El porcentaje de error es de {z}\")                 # Cuál es esa diferencia\n",
        "#Y se acabo ;D"
      ],
      "metadata": {
        "id": "ptSDwiAYe7XX"
      },
      "execution_count": null,
      "outputs": []
    },
    {
      "cell_type": "markdown",
      "source": [
        "PUNTO 6\n",
        "\n",
        "Desarrollar un programa que determine si en una lista existen o no elementos repetidos. Pista: Maneje valores booleanos y utilice el operador in."
      ],
      "metadata": {
        "id": "EHW9psDUfBlp"
      }
    },
    {
      "cell_type": "code",
      "source": [
        "def elementos_repetidos(lista):    #Definimos función para encontrar elementos repetidos\n",
        "    for i in lista:\n",
        "        if lista.count(i) > 1:     #Al evaluar cada elemento en la lista, si se encuentra más de una vez entonces hay repetidos\n",
        "            return True            #Si es así returna True\n",
        "    return False                   #Si no retorna False\n",
        "\n",
        "if __name__ == \"__main__\":\n",
        "    lista = []                     #Creamos la lista donde irán los números\n",
        "    while True:\n",
        "        entrada = input(\"Ingrese un número entero para el primer arreglo (Vacío para terminar): \")\n",
        "        if not entrada:            #Cuando deje de ingresar números computadora\n",
        "            break                  #Dejará de mostrar mensaje\n",
        "        numeros = int(entrada)     #Convierte los números a enteros\n",
        "        lista.append(numeros)      #Agregamos los números ingresados a la lista\n",
        "\n",
        "    if elementos_repetidos(lista):\n",
        "        print(\"Hay elementos repetidos\")\n",
        "    else:\n",
        "        print(\"No hay elementos repetidos\")\n",
        "\n",
        "\n"
      ],
      "metadata": {
        "id": "2MLMBt4rakH0"
      },
      "execution_count": null,
      "outputs": []
    },
    {
      "cell_type": "markdown",
      "source": [
        "PUNTO 8\n",
        "\n",
        "Desarrollar un programa que dadas dos listas determine que elementos tiene la primer lista que no tenga la segunda lista."
      ],
      "metadata": {
        "id": "wzjZ-CkeeYSZ"
      }
    },
    {
      "cell_type": "code",
      "source": [
        "#Para este código voy a utilizar 2 listas vacias a las cuales, iré añadiendo n términos y una tercera a la cual voy a añadir los terminos iguales\n",
        "lista1 = []\n",
        "lista2 = []\n",
        "lista3 = []\n",
        "j = int(input(\"Ingrese la cantidad de valores: \"))   #Cuántas palabras o números vas a usar\n",
        "for Valores in range (j):                            #Ahora, según la cantidad que elegiste, vamos hacer esa cantidad de veces el ciclo, para añadir esa cantidad de terminos(El código está adaptado para que puedas elegir no poner nada)\n",
        "    Valor = (input(\"Ingrese un número o palabra: \")) # Está es obvia xD\n",
        "    lista1.append(Valor)                             #IMPORTANTE CON EL APPEND ES QUE SE METEN O INTRODUCEN LOS VALORES EN LA LISTA\n",
        "x = int(input(\"Ingrese la cantidad de valores: \"))   #Repitis\n",
        "for Valores1 in range (x):\n",
        "    Valor2 = (input(\"Ingrese un número o palabra: \"))\n",
        "    lista2.append(Valor2)\n",
        "for x in lista1:            #Listo tenemos 2 listas, ahora hagamos un ciclo, para cada valor en la lista 1;\n",
        "  if x in lista2:           #ahora si, x está en la lista 2,\n",
        "    lista3.append(x)        #Lo vas a meter en la lista 3, si no pos no\n",
        "print(f\"{lista1}\")          #Para que se vea bonito, imprime la lista uno y dos\n",
        "print(f\"{lista2}\")\n",
        "print(f\"{lista3}\")          #Y ahora las que tienen de semejanzas\n",
        "#Y se acabo ;D\n",
        "\n"
      ],
      "metadata": {
        "id": "BZmUOdlFeSLb"
      },
      "execution_count": null,
      "outputs": []
    },
    {
      "cell_type": "markdown",
      "source": [
        "PUNTO 10\n",
        "\n",
        "Suponga que se tiene una lista A con ciertos números enteros. Desarrolle una función que, independientemente de los números que se encuentran en la lista A, tome aquellos números que son múltiplos de 3 y los guarde en una lista nueva, la cual debe ser retornada por la función. Implemente la perspectiva de un patrón de acumulación y también de comprensión de listas. Desafío: Si ya lo logró, inténtelo ahora sin utilizar el módulo (%). Pista: Un número es multiplo de 3 si la suma de sus dígitos también lo es, ¿verdad?"
      ],
      "metadata": {
        "id": "88yDix7idx8I"
      }
    },
    {
      "cell_type": "code",
      "source": [
        "#Comprensión de listas\n",
        "\n",
        "def multiplos_3():      #Definimos la función para calcular los múltiplos de 3\n",
        "    lista = []          #Creamos la lista donde irán todos los números ingresados\n",
        "    while True:\n",
        "        entrada = input(\"Ingrese un número entero para el primer arreglo (Vacío para terminar): \")\n",
        "        if not entrada:          #Cuando dejen de ingresarse números\n",
        "            break                #Dejará de mostrarse el mensaje\n",
        "        numeros = int(entrada)   #Convierte los números a enteros\n",
        "        lista.append(numeros)    #Agregamos los números ingresados a la lista\n",
        "\n",
        "    return lista                 #Retorna lista\n",
        "\n",
        "if __name__ == \"__main__\":\n",
        "    lista = multiplos_3()\n",
        "\n",
        "    lista_multiplos = []                #Creamos otra lista donde irán los múltiplos de 3\n",
        "    for i in lista:                     #Para cada valor i en la lista\n",
        "        if i % 3 == 0:                  #Evaluamos si el residuo de la división entre este y 3 es 0\n",
        "            lista_multiplos.append(i)   #Si es así se agrega a la lista de múltiplos de 3\n",
        "\n",
        "    print(lista)                        #Imprime la lista\n",
        "\n",
        "    if lista_multiplos:\n",
        "        print(\"Los múltiplos de 3 de la lista son: \" + str(lista_multiplos))\n",
        "    else:\n",
        "        print(\"Ningún número es múltiplo de 3\")\n",
        "\n"
      ],
      "metadata": {
        "id": "dh6wkVF_cPSf"
      },
      "execution_count": null,
      "outputs": []
    },
    {
      "cell_type": "code",
      "source": [
        "#Patrón de acumulación\n",
        "\n",
        "def multiplos_3():        #Definimos la función para encontrar múltiplos de 3\n",
        "    lista = []            #Creamos la lista donde irán los números ingresados\n",
        "    while True:\n",
        "        entrada = input(\"Ingrese un número entero para el primer arreglo (Vacío para terminar): \")\n",
        "        if not entrada:\n",
        "            break\n",
        "        numeros = int(entrada)\n",
        "        lista.append(numeros)       #Se agregan los números a la lista\n",
        "    return lista                    #Retorna lista\n",
        "\n",
        "if __name__ == \"__main__\":\n",
        "    lista = multiplos_3()\n",
        "\n",
        "    lista_multiplos = []                 #Se crea la lista donde irán los múltiplos de 3\n",
        "    for i in lista:                      #Para cada valor i dentro de la lista\n",
        "        num = i                          #Añadimos i a la variable num\n",
        "        while num >= 3:                  #Siempre cuando se cumpla que num es mayor o igual a 3\n",
        "            num -= 3                     #Resta iterativamente dicho valor de 3 en 3\n",
        "        if num == 0:\n",
        "            lista_multiplos.append(i)    #Si el valor llega a 0 añade los valores a la lista creada para los múltiplos de 3\n",
        "\n",
        "    if lista_multiplos:\n",
        "        print(\"Los múltiplos de 3 de la lista son: \" + str(lista_multiplos))\n",
        "    else:\n",
        "        print(\"Ningún número es múltiplo de 3\")\n"
      ],
      "metadata": {
        "id": "syT3QI2PfYPR"
      },
      "execution_count": null,
      "outputs": []
    }
  ]
}